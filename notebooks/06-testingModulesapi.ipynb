{
 "cells": [
  {
   "cell_type": "markdown",
   "id": "a71aada6-261a-47be-836c-50a33d510a24",
   "metadata": {},
   "source": [
    "## Testing out the API on the Cheminformatics Modules"
   ]
  },
  {
   "cell_type": "code",
   "execution_count": 1,
   "id": "fd8ffda2-336f-48cc-975b-b33446a852b1",
   "metadata": {},
   "outputs": [],
   "source": [
    "from pathlib import Path"
   ]
  },
  {
   "cell_type": "code",
   "execution_count": 2,
   "id": "b1163186-d9ea-438e-bc55-9c728c496cd9",
   "metadata": {},
   "outputs": [],
   "source": [
    "TOP = Path.cwd().as_posix().replace('notebooks','')\n",
    "raw_dir = Path(TOP) / 'data' /'raw'\n",
    "model_dir = Path(TOP) / 'arn_cats' /'data'"
   ]
  },
  {
   "cell_type": "code",
   "execution_count": 3,
   "id": "64d8eb74-77fb-4456-b7de-64618b71fbf0",
   "metadata": {},
   "outputs": [],
   "source": [
    "from rdkit import Chem\n",
    "import pickle\n",
    "import numpy as np\n",
    "import pandas as pd\n",
    "from glob import glob\n",
    "import textwrap"
   ]
  },
  {
   "cell_type": "code",
   "execution_count": 4,
   "id": "0a398e55-ce6b-4e74-b029-1953f987214f",
   "metadata": {},
   "outputs": [],
   "source": [
    "import json, requests\n",
    "import urllib.parse, urllib.request\n",
    "\n"
   ]
  },
  {
   "cell_type": "code",
   "execution_count": 33,
   "id": "097b157f-10d0-4957-97fa-f4c3aa06db58",
   "metadata": {},
   "outputs": [],
   "source": [
    "def arn(smi):\n",
    "        encoded_smiles = urllib.parse.quote_plus(smi)\n",
    "        webtest = f\"https://hazard-dev.sciencedataexperts.com/api/arn_cats?smiles={encoded_smiles}&model=RF\"\n",
    "        a = json.loads(urllib.request.urlopen(webtest).read().decode())\n",
    "        return a\n",
    "   "
   ]
  },
  {
   "cell_type": "code",
   "execution_count": 34,
   "id": "4ba79cab-f837-4fc2-8189-01e9318f96b9",
   "metadata": {},
   "outputs": [],
   "source": [
    "test = arn(\"CC(C)c1ccc2sc3ccccc3c(=O)c2c1\")"
   ]
  },
  {
   "cell_type": "code",
   "execution_count": 35,
   "id": "a6bfe3ea-cd34-4261-8854-6bbb4df2832e",
   "metadata": {},
   "outputs": [
    {
     "data": {
      "text/plain": [
       "{'chemical': 'CC(C)c1ccc2sc3ccccc3c(=O)c2c1',\n",
       " 'in_domain': True,\n",
       " 'group': 'thioxanthenones'}"
      ]
     },
     "execution_count": 35,
     "metadata": {},
     "output_type": "execute_result"
    }
   ],
   "source": [
    "test"
   ]
  },
  {
   "cell_type": "code",
   "execution_count": 6,
   "id": "8fd95bc5-68cd-43ca-b670-d47225dfa10a",
   "metadata": {},
   "outputs": [],
   "source": [
    "reach_examples = pd.read_csv(raw_dir/'echa_50_arns.csv')"
   ]
  },
  {
   "cell_type": "code",
   "execution_count": 8,
   "id": "d3f5cd8f-141b-44e0-9bfb-e77952b8c7a9",
   "metadata": {},
   "outputs": [
    {
     "data": {
      "text/html": [
       "<div>\n",
       "<style scoped>\n",
       "    .dataframe tbody tr th:only-of-type {\n",
       "        vertical-align: middle;\n",
       "    }\n",
       "\n",
       "    .dataframe tbody tr th {\n",
       "        vertical-align: top;\n",
       "    }\n",
       "\n",
       "    .dataframe thead th {\n",
       "        text-align: right;\n",
       "    }\n",
       "</style>\n",
       "<table border=\"1\" class=\"dataframe\">\n",
       "  <thead>\n",
       "    <tr style=\"text-align: right;\">\n",
       "      <th></th>\n",
       "      <th>Unnamed: 0</th>\n",
       "      <th>ec_number</th>\n",
       "      <th>substance_name</th>\n",
       "      <th>smiles</th>\n",
       "      <th>orig_grp1</th>\n",
       "      <th>orig_grp2</th>\n",
       "      <th>orig_grp3</th>\n",
       "      <th>in_domain</th>\n",
       "      <th>predicted group 1</th>\n",
       "      <th>predicted group 2</th>\n",
       "      <th>predicted group 3</th>\n",
       "      <th>predicted group 1 probability</th>\n",
       "      <th>predicted group 2 probability</th>\n",
       "      <th>predicted group 3 probability</th>\n",
       "    </tr>\n",
       "  </thead>\n",
       "  <tbody>\n",
       "    <tr>\n",
       "      <th>0</th>\n",
       "      <td>0</td>\n",
       "      <td>213-668-5</td>\n",
       "      <td>1,1,1,3,3,3-hexamethyldisilazane</td>\n",
       "      <td>C[Si](C)(C)N[Si](C)(C)C</td>\n",
       "      <td>hydrocarbyl siloxanes</td>\n",
       "      <td>Simple Lithium compounds</td>\n",
       "      <td>miscellaneous chemistry</td>\n",
       "      <td>False</td>\n",
       "      <td>hydrocarbyl siloxanes</td>\n",
       "      <td>Simple Lithium compounds</td>\n",
       "      <td>miscellaneous chemistry</td>\n",
       "      <td>0.274541</td>\n",
       "      <td>0.159919</td>\n",
       "      <td>0.089563</td>\n",
       "    </tr>\n",
       "    <tr>\n",
       "      <th>1</th>\n",
       "      <td>1</td>\n",
       "      <td>202-808-0</td>\n",
       "      <td>4-nitrotoluene</td>\n",
       "      <td>Cc1ccc([N+](=O)[O-])cc1</td>\n",
       "      <td>nitroalkanes</td>\n",
       "      <td>miscellaneous chemistry</td>\n",
       "      <td>chlorinated aromatic hydrocarbons</td>\n",
       "      <td>False</td>\n",
       "      <td>nitroalkanes</td>\n",
       "      <td>miscellaneous chemistry</td>\n",
       "      <td>chlorinated aromatic hydrocarbons</td>\n",
       "      <td>0.240193</td>\n",
       "      <td>0.112222</td>\n",
       "      <td>0.094778</td>\n",
       "    </tr>\n",
       "    <tr>\n",
       "      <th>2</th>\n",
       "      <td>2</td>\n",
       "      <td>202-805-4</td>\n",
       "      <td>N,N-dimethyl-p-toluidine</td>\n",
       "      <td>Cc1ccc(N(C)C)cc1</td>\n",
       "      <td>chlorinated aromatic hydrocarbons</td>\n",
       "      <td>miscellaneous chemistry</td>\n",
       "      <td>Unsubstituted and linear aliphatic-substituted...</td>\n",
       "      <td>True</td>\n",
       "      <td>chlorinated aromatic hydrocarbons</td>\n",
       "      <td>miscellaneous chemistry</td>\n",
       "      <td>Unsubstituted and linear aliphatic-substituted...</td>\n",
       "      <td>0.161841</td>\n",
       "      <td>0.140310</td>\n",
       "      <td>0.127222</td>\n",
       "    </tr>\n",
       "    <tr>\n",
       "      <th>3</th>\n",
       "      <td>3</td>\n",
       "      <td>202-804-9</td>\n",
       "      <td>4-hydroxybenzoic acid</td>\n",
       "      <td>O=C(O)c1ccc(O)cc1</td>\n",
       "      <td>Paraben acid, salts and esters</td>\n",
       "      <td>Isophthalates, Terephthalates and Trimellitates</td>\n",
       "      <td>miscellaneous chemistry</td>\n",
       "      <td>True</td>\n",
       "      <td>Paraben acid, salts and esters</td>\n",
       "      <td>Isophthalates, Terephthalates and Trimellitates</td>\n",
       "      <td>miscellaneous chemistry</td>\n",
       "      <td>0.509563</td>\n",
       "      <td>0.169198</td>\n",
       "      <td>0.113762</td>\n",
       "    </tr>\n",
       "    <tr>\n",
       "      <th>4</th>\n",
       "      <td>4</td>\n",
       "      <td>202-803-3</td>\n",
       "      <td>p-toluic acid</td>\n",
       "      <td>Cc1ccc(C(=O)O)cc1</td>\n",
       "      <td>Isophthalates, Terephthalates and Trimellitates</td>\n",
       "      <td>miscellaneous chemistry</td>\n",
       "      <td>Paraben acid, salts and esters</td>\n",
       "      <td>True</td>\n",
       "      <td>Isophthalates, Terephthalates and Trimellitates</td>\n",
       "      <td>miscellaneous chemistry</td>\n",
       "      <td>Paraben acid, salts and esters</td>\n",
       "      <td>0.268333</td>\n",
       "      <td>0.150849</td>\n",
       "      <td>0.117310</td>\n",
       "    </tr>\n",
       "  </tbody>\n",
       "</table>\n",
       "</div>"
      ],
      "text/plain": [
       "   Unnamed: 0  ec_number                    substance_name  \\\n",
       "0           0  213-668-5  1,1,1,3,3,3-hexamethyldisilazane   \n",
       "1           1  202-808-0                    4-nitrotoluene   \n",
       "2           2  202-805-4          N,N-dimethyl-p-toluidine   \n",
       "3           3  202-804-9             4-hydroxybenzoic acid   \n",
       "4           4  202-803-3                     p-toluic acid   \n",
       "\n",
       "                    smiles                                        orig_grp1  \\\n",
       "0  C[Si](C)(C)N[Si](C)(C)C                            hydrocarbyl siloxanes   \n",
       "1  Cc1ccc([N+](=O)[O-])cc1                                     nitroalkanes   \n",
       "2         Cc1ccc(N(C)C)cc1                chlorinated aromatic hydrocarbons   \n",
       "3        O=C(O)c1ccc(O)cc1                   Paraben acid, salts and esters   \n",
       "4        Cc1ccc(C(=O)O)cc1  Isophthalates, Terephthalates and Trimellitates   \n",
       "\n",
       "                                         orig_grp2  \\\n",
       "0                         Simple Lithium compounds   \n",
       "1                          miscellaneous chemistry   \n",
       "2                          miscellaneous chemistry   \n",
       "3  Isophthalates, Terephthalates and Trimellitates   \n",
       "4                          miscellaneous chemistry   \n",
       "\n",
       "                                           orig_grp3  in_domain  \\\n",
       "0                            miscellaneous chemistry      False   \n",
       "1                  chlorinated aromatic hydrocarbons      False   \n",
       "2  Unsubstituted and linear aliphatic-substituted...       True   \n",
       "3                            miscellaneous chemistry       True   \n",
       "4                     Paraben acid, salts and esters       True   \n",
       "\n",
       "                                 predicted group 1  \\\n",
       "0                            hydrocarbyl siloxanes   \n",
       "1                                     nitroalkanes   \n",
       "2                chlorinated aromatic hydrocarbons   \n",
       "3                   Paraben acid, salts and esters   \n",
       "4  Isophthalates, Terephthalates and Trimellitates   \n",
       "\n",
       "                                 predicted group 2  \\\n",
       "0                         Simple Lithium compounds   \n",
       "1                          miscellaneous chemistry   \n",
       "2                          miscellaneous chemistry   \n",
       "3  Isophthalates, Terephthalates and Trimellitates   \n",
       "4                          miscellaneous chemistry   \n",
       "\n",
       "                                   predicted group 3  \\\n",
       "0                            miscellaneous chemistry   \n",
       "1                  chlorinated aromatic hydrocarbons   \n",
       "2  Unsubstituted and linear aliphatic-substituted...   \n",
       "3                            miscellaneous chemistry   \n",
       "4                     Paraben acid, salts and esters   \n",
       "\n",
       "   predicted group 1 probability  predicted group 2 probability  \\\n",
       "0                       0.274541                       0.159919   \n",
       "1                       0.240193                       0.112222   \n",
       "2                       0.161841                       0.140310   \n",
       "3                       0.509563                       0.169198   \n",
       "4                       0.268333                       0.150849   \n",
       "\n",
       "   predicted group 3 probability  \n",
       "0                       0.089563  \n",
       "1                       0.094778  \n",
       "2                       0.127222  \n",
       "3                       0.113762  \n",
       "4                       0.117310  "
      ]
     },
     "execution_count": 8,
     "metadata": {},
     "output_type": "execute_result"
    }
   ],
   "source": [
    "reach_examples.head()"
   ]
  },
  {
   "cell_type": "code",
   "execution_count": 47,
   "id": "71702625-5681-44c1-8f16-7a4ba2e86ffc",
   "metadata": {},
   "outputs": [],
   "source": [
    "data_list = []\n",
    "\n",
    "for i, row in reach_examples.iterrows():\n",
    "    ec_number = row['ec_number']\n",
    "    # Assuming arn function returns a dictionary with keys 'chemical' and 'in_domain'\n",
    "    smiles_output = arn(row['smiles'])\n",
    "    \n",
    "    # Append a dictionary containing the ec_number and unpacked API output to the list\n",
    "    data_list.append({\n",
    "        'ec_number': ec_number,\n",
    "        'chemical': smiles_output['chemical'],\n",
    "        'group': smiles_output['group'],\n",
    "        'in_domain': smiles_output.get('in_domain', None)  # Use .get() for optional keys\n",
    "        # Add other keys from the API output as needed\n",
    "    })\n",
    "\n",
    "# Convert the list of dictionaries into a DataFrame\n",
    "result_df = pd.DataFrame(data_list)\n",
    "\n"
   ]
  },
  {
   "cell_type": "code",
   "execution_count": 51,
   "id": "f2ac198a-0a4c-488d-99fb-9adca03ba338",
   "metadata": {},
   "outputs": [],
   "source": [
    "result_df = (result_df\n",
    " .rename(columns = {'group':'modules_group', 'in_domain': 'modules_in_domain'})\n",
    ")"
   ]
  },
  {
   "cell_type": "code",
   "execution_count": 57,
   "id": "ccc62e7c-7575-472b-ac93-7e3ffa5238a4",
   "metadata": {},
   "outputs": [],
   "source": [
    "compare = (pd.merge(reach_examples, result_df[['ec_number','modules_group','modules_in_domain']] , on = 'ec_number', how = 'left')\n",
    ".drop(['Unnamed: 0'], axis = 1)\n",
    ")"
   ]
  },
  {
   "cell_type": "code",
   "execution_count": 76,
   "id": "e3a8ad10-b307-424c-9d27-96fefef124f3",
   "metadata": {},
   "outputs": [],
   "source": [
    "compare[['ec_number','orig_grp1','in_domain', 'predicted group 1', 'modules_group', 'modules_in_domain']].to_csv(raw_dir/'all_preds.csv')"
   ]
  },
  {
   "cell_type": "code",
   "execution_count": 64,
   "id": "5b370f25-d900-4bea-90fd-655e687e5c30",
   "metadata": {},
   "outputs": [],
   "source": [
    "# Identify rows where the columns are not identical\n",
    "\n",
    "are_identical = (compare['orig_grp1'] == compare['predicted group 1']) & (compare['predicted group 1'] == compare['modules_group'])\n",
    "\n",
    "# Check if all rows are True (i.e., columns are identical across all rows)\n",
    "all_identical1 = are_identical.all()\n"
   ]
  },
  {
   "cell_type": "code",
   "execution_count": 68,
   "id": "e7d307f9-b6e0-428b-9c8a-3399cf51e979",
   "metadata": {},
   "outputs": [
    {
     "data": {
      "text/plain": [
       "False"
      ]
     },
     "execution_count": 68,
     "metadata": {},
     "output_type": "execute_result"
    }
   ],
   "source": [
    "(compare['orig_grp1'] == compare['modules_group']).all()"
   ]
  },
  {
   "cell_type": "code",
   "execution_count": 75,
   "id": "8fb9ac62-1bde-4f11-b0d2-d315afbfe887",
   "metadata": {},
   "outputs": [
    {
     "data": {
      "text/html": [
       "<div>\n",
       "<style scoped>\n",
       "    .dataframe tbody tr th:only-of-type {\n",
       "        vertical-align: middle;\n",
       "    }\n",
       "\n",
       "    .dataframe tbody tr th {\n",
       "        vertical-align: top;\n",
       "    }\n",
       "\n",
       "    .dataframe thead th {\n",
       "        text-align: right;\n",
       "    }\n",
       "</style>\n",
       "<table border=\"1\" class=\"dataframe\">\n",
       "  <thead>\n",
       "    <tr style=\"text-align: right;\">\n",
       "      <th></th>\n",
       "      <th>ec_number</th>\n",
       "      <th>orig_grp1</th>\n",
       "      <th>modules_group</th>\n",
       "    </tr>\n",
       "  </thead>\n",
       "  <tbody>\n",
       "    <tr>\n",
       "      <th>0</th>\n",
       "      <td>213-668-5</td>\n",
       "      <td>hydrocarbyl siloxanes</td>\n",
       "      <td>miscellaneous chemistry</td>\n",
       "    </tr>\n",
       "    <tr>\n",
       "      <th>11</th>\n",
       "      <td>202-795-1</td>\n",
       "      <td>Unsubstituted and linear aliphatic-substituted...</td>\n",
       "      <td>miscellaneous chemistry</td>\n",
       "    </tr>\n",
       "    <tr>\n",
       "      <th>12</th>\n",
       "      <td>202-794-6</td>\n",
       "      <td>Unsubstituted and linear aliphatic-substituted...</td>\n",
       "      <td>miscellaneous chemistry</td>\n",
       "    </tr>\n",
       "    <tr>\n",
       "      <th>15</th>\n",
       "      <td>213-650-7</td>\n",
       "      <td>Branched/cyclic dialiphatic ethers (excluding ...</td>\n",
       "      <td>miscellaneous chemistry</td>\n",
       "    </tr>\n",
       "    <tr>\n",
       "      <th>17</th>\n",
       "      <td>700-377-8</td>\n",
       "      <td>chlorinated aromatic hydrocarbons</td>\n",
       "      <td>miscellaneous chemistry</td>\n",
       "    </tr>\n",
       "    <tr>\n",
       "      <th>22</th>\n",
       "      <td>213-637-6</td>\n",
       "      <td>hydrocarbyl siloxanes</td>\n",
       "      <td>miscellaneous chemistry</td>\n",
       "    </tr>\n",
       "    <tr>\n",
       "      <th>25</th>\n",
       "      <td>213-635-5</td>\n",
       "      <td>Simple Lithium compounds</td>\n",
       "      <td>miscellaneous chemistry</td>\n",
       "    </tr>\n",
       "    <tr>\n",
       "      <th>29</th>\n",
       "      <td>202-772-6</td>\n",
       "      <td>Aralkylaldehydes</td>\n",
       "      <td>miscellaneous chemistry</td>\n",
       "    </tr>\n",
       "    <tr>\n",
       "      <th>37</th>\n",
       "      <td>202-765-8</td>\n",
       "      <td>nitroalkanes</td>\n",
       "      <td>miscellaneous chemistry</td>\n",
       "    </tr>\n",
       "    <tr>\n",
       "      <th>40</th>\n",
       "      <td>202-762-1</td>\n",
       "      <td>nitroalkanes</td>\n",
       "      <td>miscellaneous chemistry</td>\n",
       "    </tr>\n",
       "    <tr>\n",
       "      <th>46</th>\n",
       "      <td>213-615-6</td>\n",
       "      <td>Simple Lithium compounds</td>\n",
       "      <td>miscellaneous chemistry</td>\n",
       "    </tr>\n",
       "  </tbody>\n",
       "</table>\n",
       "</div>"
      ],
      "text/plain": [
       "    ec_number                                          orig_grp1  \\\n",
       "0   213-668-5                              hydrocarbyl siloxanes   \n",
       "11  202-795-1  Unsubstituted and linear aliphatic-substituted...   \n",
       "12  202-794-6  Unsubstituted and linear aliphatic-substituted...   \n",
       "15  213-650-7  Branched/cyclic dialiphatic ethers (excluding ...   \n",
       "17  700-377-8                  chlorinated aromatic hydrocarbons   \n",
       "22  213-637-6                              hydrocarbyl siloxanes   \n",
       "25  213-635-5                           Simple Lithium compounds   \n",
       "29  202-772-6                                   Aralkylaldehydes   \n",
       "37  202-765-8                                       nitroalkanes   \n",
       "40  202-762-1                                       nitroalkanes   \n",
       "46  213-615-6                           Simple Lithium compounds   \n",
       "\n",
       "              modules_group  \n",
       "0   miscellaneous chemistry  \n",
       "11  miscellaneous chemistry  \n",
       "12  miscellaneous chemistry  \n",
       "15  miscellaneous chemistry  \n",
       "17  miscellaneous chemistry  \n",
       "22  miscellaneous chemistry  \n",
       "25  miscellaneous chemistry  \n",
       "29  miscellaneous chemistry  \n",
       "37  miscellaneous chemistry  \n",
       "40  miscellaneous chemistry  \n",
       "46  miscellaneous chemistry  "
      ]
     },
     "execution_count": 75,
     "metadata": {},
     "output_type": "execute_result"
    }
   ],
   "source": [
    "compare[(compare['orig_grp1'] != compare['modules_group'])][['ec_number', 'orig_grp1','modules_group']]"
   ]
  },
  {
   "cell_type": "code",
   "execution_count": 74,
   "id": "63c4bcaa-a785-4273-8156-0ba3201c1b3a",
   "metadata": {},
   "outputs": [],
   "source": [
    "compare[(compare['orig_grp1'] != compare['modules_group'])][['ec_number', 'orig_grp1','modules_group']].to_csv(raw_dir/'mismatches_reach.csv')"
   ]
  },
  {
   "cell_type": "code",
   "execution_count": null,
   "id": "cbcd547d-741f-4587-9ad6-cba04e6dbb02",
   "metadata": {},
   "outputs": [],
   "source": []
  }
 ],
 "metadata": {
  "kernelspec": {
   "display_name": "survey_env",
   "language": "python",
   "name": "survey_env"
  },
  "language_info": {
   "codemirror_mode": {
    "name": "ipython",
    "version": 3
   },
   "file_extension": ".py",
   "mimetype": "text/x-python",
   "name": "python",
   "nbconvert_exporter": "python",
   "pygments_lexer": "ipython3",
   "version": "3.10.15"
  }
 },
 "nbformat": 4,
 "nbformat_minor": 5
}
