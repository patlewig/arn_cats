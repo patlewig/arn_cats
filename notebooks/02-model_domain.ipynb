{
 "cells": [
  {
   "cell_type": "markdown",
   "id": "adcd5e2e-2920-4041-bfcc-4ef79c37d69a",
   "metadata": {},
   "source": [
    "# Apply model application domain developed for the ARN Categories"
   ]
  },
  {
   "cell_type": "code",
   "execution_count": 1,
   "id": "9b6495ec-1ca6-43d2-a6ae-0f17e0a9135b",
   "metadata": {},
   "outputs": [],
   "source": [
    "from pathlib import Path"
   ]
  },
  {
   "cell_type": "code",
   "execution_count": 2,
   "id": "a936e8b0-09b9-47a1-853e-20e293097f44",
   "metadata": {},
   "outputs": [],
   "source": [
    "TOP = Path.cwd().as_posix().replace('notebooks','')"
   ]
  },
  {
   "cell_type": "code",
   "execution_count": 3,
   "id": "121f7346-389e-4373-8056-c5bcaa35a179",
   "metadata": {},
   "outputs": [],
   "source": [
    "raw_dir = Path(TOP) / 'data' /'raw'\n",
    "model_dir = Path(TOP) / 'arn_cats' /'data'"
   ]
  },
  {
   "cell_type": "code",
   "execution_count": 4,
   "id": "c0570169-bb34-45da-8e05-bd0fce9f04fa",
   "metadata": {},
   "outputs": [],
   "source": [
    "import matplotlib.pyplot as plt\n",
    "import seaborn as sns\n",
    "from tqdm import tqdm\n",
    "import textwrap"
   ]
  },
  {
   "cell_type": "code",
   "execution_count": 23,
   "id": "fa8f86fe-27d5-4242-aa5e-088a1645ad3a",
   "metadata": {},
   "outputs": [],
   "source": [
    "import sys\n",
    "import os\n",
    "\n",
    "# Get the absolute path of the project root\n",
    "project_root = os.path.abspath(os.path.join(os.getcwd(), \"..\"))\n",
    "\n",
    "# Add it to sys.path\n",
    "sys.path.insert(0, project_root)\n"
   ]
  },
  {
   "cell_type": "code",
   "execution_count": 24,
   "id": "c8a75958-4f1e-44ab-b571-906a1eec3c98",
   "metadata": {},
   "outputs": [],
   "source": [
    "from arn_cats.utl import logger\n",
    "log = logger.get_logger(__name__)"
   ]
  },
  {
   "cell_type": "code",
   "execution_count": 25,
   "id": "6828f2ea-a138-4e4f-8e28-0e43722077ed",
   "metadata": {},
   "outputs": [],
   "source": [
    "from arn_cats.chm.cheminfo_toolkit import Molecule,Fingerprint_engine"
   ]
  },
  {
   "cell_type": "code",
   "execution_count": 26,
   "id": "04a72238-5f2d-44c9-929e-3a8dbaa13c26",
   "metadata": {},
   "outputs": [],
   "source": [
    "from arn_cats.model.build_model import group_predictor_rf, group_predictor_kn, build_random_forest_classifier, select_groups"
   ]
  },
  {
   "cell_type": "code",
   "execution_count": 28,
   "id": "84a7783f-50cb-433f-a33f-ef38d24efc66",
   "metadata": {},
   "outputs": [],
   "source": [
    "from arn_cats.model.model_domain import Domain"
   ]
  },
  {
   "cell_type": "code",
   "execution_count": 9,
   "id": "a299634d-711a-47da-9dc4-8654e4b2e0a9",
   "metadata": {},
   "outputs": [],
   "source": [
    "from arn_cats.visualisation.visualise_ARN_groups import visualise_ARN_groups"
   ]
  },
  {
   "cell_type": "code",
   "execution_count": 8,
   "id": "20ea6231-f268-427c-9896-1fd8dc7d6db8",
   "metadata": {},
   "outputs": [],
   "source": [
    "from rdkit import Chem\n",
    "import pickle\n",
    "import numpy as np\n",
    "import pandas as pd\n",
    "from glob import glob\n",
    "import textwrap"
   ]
  },
  {
   "cell_type": "code",
   "execution_count": 11,
   "id": "53c25b76-cf29-44db-b465-a53e15140952",
   "metadata": {},
   "outputs": [],
   "source": [
    "from arn_cats.chm import cheminfo_toolkit"
   ]
  },
  {
   "cell_type": "markdown",
   "id": "8032f055-9ff5-41a7-8da1-f38a5bbbd3df",
   "metadata": {},
   "source": [
    "Load the set of molecules from the ARN groups themselves"
   ]
  },
  {
   "cell_type": "code",
   "execution_count": 9,
   "id": "fcb729bb-ed52-425e-8914-55b2d0dcc562",
   "metadata": {},
   "outputs": [
    {
     "name": "stdout",
     "output_type": "stream",
     "text": [
      "Resolved path: /home/grace/Documents/python/arn_cats/arn_cats/data/molecules_all.pickle\n"
     ]
    }
   ],
   "source": [
    "from arn_cats.data.data_load import arn_groups"
   ]
  },
  {
   "cell_type": "code",
   "execution_count": 10,
   "id": "729ae87d-e5fa-4adc-8049-7fe598e55538",
   "metadata": {},
   "outputs": [],
   "source": [
    "from arn_cats.data.data_load import molecules"
   ]
  },
  {
   "cell_type": "code",
   "execution_count": 15,
   "id": "8d6b422b-965e-4a82-aad5-4996e6f9fa15",
   "metadata": {},
   "outputs": [],
   "source": [
    "molecules_regrouped = select_groups(molecules,\n",
    "                                    minimum_group_size=10,\n",
    "                                    small_groups_as_negative=True,\n",
    "                                    pulled_small_group_name=\"miscellaneous chemistry\")\n"
   ]
  },
  {
   "cell_type": "code",
   "execution_count": 19,
   "id": "36c0f067-39ac-4511-8672-0f96450c9475",
   "metadata": {},
   "outputs": [],
   "source": [
    "fingerprint_engine = Fingerprint_engine.Morgan(radius=2, nBits=2560)"
   ]
  },
  {
   "cell_type": "markdown",
   "id": "97aaa9c2-bf01-411b-a05c-34a1d4c61665",
   "metadata": {},
   "source": [
    "Instantiate domain for the substances"
   ]
  },
  {
   "cell_type": "code",
   "execution_count": 29,
   "id": "52cc7c08-7672-430f-bfb5-d09ed3fd28a3",
   "metadata": {},
   "outputs": [],
   "source": [
    "domain_rf = Domain(molecules_regrouped, fingerprint_engine=fingerprint_engine)"
   ]
  },
  {
   "cell_type": "markdown",
   "id": "82f5998e-29f1-4dd0-b95d-5f1b84665d80",
   "metadata": {},
   "source": [
    "Load a new dataset - for sake of example, the first 5 substances in the TSCA inventory set are loaded and filtered for the specific columns of interest"
   ]
  },
  {
   "cell_type": "code",
   "execution_count": 32,
   "id": "ca11aefa-9bfc-44d5-9873-6f2de03b8a21",
   "metadata": {},
   "outputs": [],
   "source": [
    "tsca_head = (pd.read_excel(raw_dir/'tsca_categorisation_071124_wmappingdict.xlsx')\n",
    " .head()\n",
    "             \n",
    ")"
   ]
  },
  {
   "cell_type": "code",
   "execution_count": 42,
   "id": "86a7621c-cb0f-4bb6-b1d4-42ae0c312768",
   "metadata": {},
   "outputs": [],
   "source": [
    "tsca_head =(tsca_head\n",
    " .filter(['dtxsid', 'PREFERRED_NAME', 'CASRN', 'smiles'])\n",
    ")"
   ]
  },
  {
   "cell_type": "markdown",
   "id": "61b1f5af-b196-4a55-a38f-685496dfa2a7",
   "metadata": {},
   "source": [
    "Loop across the molecules in this set on the basis of their SMILES - converted to MOLS in order to evaluate whether they fall within the applicability domain of the \"training set chemicals\""
   ]
  },
  {
   "cell_type": "code",
   "execution_count": 45,
   "id": "ac99e626-94c8-48f5-b3cf-cbb2fd70889d",
   "metadata": {},
   "outputs": [],
   "source": [
    "mol_entries = []\n",
    "for i, row in tsca_head.iterrows():\n",
    "    mol_entry = dict(row)\n",
    "    try:\n",
    "        mol = Molecule(Chem.MolFromSmiles(row['smiles']))\n",
    "    except:\n",
    "        continue\n",
    "    mol_entry['mol'] = mol\n",
    "    mol_entry['in_domain'] = domain_rf.in_domain(mol)\n",
    "    mol_entries.append(mol_entry)\n",
    "\n",
    "\n"
   ]
  },
  {
   "cell_type": "code",
   "execution_count": 46,
   "id": "de52e821-101b-439a-9902-446c395f90fc",
   "metadata": {},
   "outputs": [],
   "source": [
    "mol_entries = (pd.DataFrame(mol_entries)\n",
    " .drop(['mol'], axis = 1)\n",
    "              )"
   ]
  },
  {
   "cell_type": "markdown",
   "id": "d4c50a5a-d644-439d-84c4-ce9051c53016",
   "metadata": {},
   "source": [
    "Wrangle the data into the original dataframe so that a new column is created for the chemicals of interest to indicate whether the substance is in/out of domain"
   ]
  },
  {
   "cell_type": "code",
   "execution_count": 47,
   "id": "c604e0c6-f241-4289-b19f-df558ecee796",
   "metadata": {},
   "outputs": [
    {
     "data": {
      "text/html": [
       "<div>\n",
       "<style scoped>\n",
       "    .dataframe tbody tr th:only-of-type {\n",
       "        vertical-align: middle;\n",
       "    }\n",
       "\n",
       "    .dataframe tbody tr th {\n",
       "        vertical-align: top;\n",
       "    }\n",
       "\n",
       "    .dataframe thead th {\n",
       "        text-align: right;\n",
       "    }\n",
       "</style>\n",
       "<table border=\"1\" class=\"dataframe\">\n",
       "  <thead>\n",
       "    <tr style=\"text-align: right;\">\n",
       "      <th></th>\n",
       "      <th>dtxsid</th>\n",
       "      <th>PREFERRED_NAME</th>\n",
       "      <th>CASRN</th>\n",
       "      <th>smiles</th>\n",
       "      <th>in_domain</th>\n",
       "    </tr>\n",
       "  </thead>\n",
       "  <tbody>\n",
       "    <tr>\n",
       "      <th>0</th>\n",
       "      <td>DTXSID4063036</td>\n",
       "      <td>1-Nonyne</td>\n",
       "      <td>3452-09-3</td>\n",
       "      <td>CCCCCCCC#C</td>\n",
       "      <td>True</td>\n",
       "    </tr>\n",
       "    <tr>\n",
       "      <th>1</th>\n",
       "      <td>DTXSID30870753</td>\n",
       "      <td>1-Hexyne</td>\n",
       "      <td>693-02-7</td>\n",
       "      <td>CCCCC#C</td>\n",
       "      <td>True</td>\n",
       "    </tr>\n",
       "    <tr>\n",
       "      <th>2</th>\n",
       "      <td>DTXSID7062374</td>\n",
       "      <td>1,8-Nonadiyne</td>\n",
       "      <td>2396-65-8</td>\n",
       "      <td>C#CCCCCCC#C</td>\n",
       "      <td>False</td>\n",
       "    </tr>\n",
       "    <tr>\n",
       "      <th>3</th>\n",
       "      <td>DTXSID9061097</td>\n",
       "      <td>1-Pentadecyne</td>\n",
       "      <td>765-13-9</td>\n",
       "      <td>CCCCCCCCCCCCCC#C</td>\n",
       "      <td>True</td>\n",
       "    </tr>\n",
       "    <tr>\n",
       "      <th>4</th>\n",
       "      <td>DTXSID1061233</td>\n",
       "      <td>1,7-Octadiyne</td>\n",
       "      <td>871-84-1</td>\n",
       "      <td>C#CCCCCC#C</td>\n",
       "      <td>False</td>\n",
       "    </tr>\n",
       "  </tbody>\n",
       "</table>\n",
       "</div>"
      ],
      "text/plain": [
       "           dtxsid PREFERRED_NAME      CASRN            smiles  in_domain\n",
       "0   DTXSID4063036       1-Nonyne  3452-09-3        CCCCCCCC#C       True\n",
       "1  DTXSID30870753       1-Hexyne   693-02-7           CCCCC#C       True\n",
       "2   DTXSID7062374  1,8-Nonadiyne  2396-65-8       C#CCCCCCC#C      False\n",
       "3   DTXSID9061097  1-Pentadecyne   765-13-9  CCCCCCCCCCCCCC#C       True\n",
       "4   DTXSID1061233  1,7-Octadiyne   871-84-1        C#CCCCCC#C      False"
      ]
     },
     "execution_count": 47,
     "metadata": {},
     "output_type": "execute_result"
    }
   ],
   "source": [
    "mol_entries"
   ]
  }
 ],
 "metadata": {
  "kernelspec": {
   "display_name": "py310",
   "language": "python",
   "name": "py310"
  },
  "language_info": {
   "codemirror_mode": {
    "name": "ipython",
    "version": 3
   },
   "file_extension": ".py",
   "mimetype": "text/x-python",
   "name": "python",
   "nbconvert_exporter": "python",
   "pygments_lexer": "ipython3",
   "version": "3.10.14"
  },
  "widgets": {
   "application/vnd.jupyter.widget-state+json": {
    "state": {},
    "version_major": 2,
    "version_minor": 0
   }
  }
 },
 "nbformat": 4,
 "nbformat_minor": 5
}
