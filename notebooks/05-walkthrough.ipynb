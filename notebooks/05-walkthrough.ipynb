{
 "cells": [
  {
   "cell_type": "markdown",
   "id": "adcd5e2e-2920-4041-bfcc-4ef79c37d69a",
   "metadata": {},
   "source": [
    "# Walking through the application of the RF model developed for the ARN Categories for a new set of chemicals"
   ]
  },
  {
   "cell_type": "code",
   "execution_count": 1,
   "id": "9b6495ec-1ca6-43d2-a6ae-0f17e0a9135b",
   "metadata": {},
   "outputs": [],
   "source": [
    "from pathlib import Path"
   ]
  },
  {
   "cell_type": "code",
   "execution_count": 2,
   "id": "a936e8b0-09b9-47a1-853e-20e293097f44",
   "metadata": {},
   "outputs": [],
   "source": [
    "TOP = Path.cwd().as_posix().replace('notebooks','')"
   ]
  },
  {
   "cell_type": "code",
   "execution_count": 3,
   "id": "121f7346-389e-4373-8056-c5bcaa35a179",
   "metadata": {},
   "outputs": [],
   "source": [
    "raw_dir = Path(TOP) / 'data' /'raw'\n",
    "model_dir = Path(TOP) / 'arn_cats' /'data'"
   ]
  },
  {
   "cell_type": "code",
   "execution_count": 6,
   "id": "c83adcf3-334a-45aa-bdc4-1e25de62d555",
   "metadata": {},
   "outputs": [],
   "source": [
    "import sys\n",
    "import os"
   ]
  },
  {
   "cell_type": "code",
   "execution_count": 7,
   "id": "e14559dc-a4f8-489d-b420-0d76df6311a3",
   "metadata": {},
   "outputs": [],
   "source": [
    "project_root = os.path.abspath(os.path.join(os.getcwd(), \"..\"))\n",
    "sys.path.insert(0, project_root)"
   ]
  },
  {
   "cell_type": "code",
   "execution_count": 4,
   "id": "c0570169-bb34-45da-8e05-bd0fce9f04fa",
   "metadata": {},
   "outputs": [
    {
     "ename": "ModuleNotFoundError",
     "evalue": "No module named 'tqdm'",
     "output_type": "error",
     "traceback": [
      "\u001b[0;31m---------------------------------------------------------------------------\u001b[0m",
      "\u001b[0;31mModuleNotFoundError\u001b[0m                       Traceback (most recent call last)",
      "Cell \u001b[0;32mIn[4], line 3\u001b[0m\n\u001b[1;32m      1\u001b[0m \u001b[38;5;28;01mimport\u001b[39;00m\u001b[38;5;250m \u001b[39m\u001b[38;5;21;01mmatplotlib\u001b[39;00m\u001b[38;5;21;01m.\u001b[39;00m\u001b[38;5;21;01mpyplot\u001b[39;00m\u001b[38;5;250m \u001b[39m\u001b[38;5;28;01mas\u001b[39;00m\u001b[38;5;250m \u001b[39m\u001b[38;5;21;01mplt\u001b[39;00m\n\u001b[1;32m      2\u001b[0m \u001b[38;5;28;01mimport\u001b[39;00m\u001b[38;5;250m \u001b[39m\u001b[38;5;21;01mseaborn\u001b[39;00m\u001b[38;5;250m \u001b[39m\u001b[38;5;28;01mas\u001b[39;00m\u001b[38;5;250m \u001b[39m\u001b[38;5;21;01msns\u001b[39;00m\n\u001b[0;32m----> 3\u001b[0m \u001b[38;5;28;01mfrom\u001b[39;00m\u001b[38;5;250m \u001b[39m\u001b[38;5;21;01mtqdm\u001b[39;00m\u001b[38;5;250m \u001b[39m\u001b[38;5;28;01mimport\u001b[39;00m tqdm\n\u001b[1;32m      4\u001b[0m \u001b[38;5;28;01mimport\u001b[39;00m\u001b[38;5;250m \u001b[39m\u001b[38;5;21;01mtextwrap\u001b[39;00m\n",
      "\u001b[0;31mModuleNotFoundError\u001b[0m: No module named 'tqdm'"
     ]
    }
   ],
   "source": [
    "import matplotlib.pyplot as plt\n",
    "import seaborn as sns\n",
    "from tqdm import tqdm\n",
    "import textwrap"
   ]
  },
  {
   "cell_type": "code",
   "execution_count": 5,
   "id": "6828f2ea-a138-4e4f-8e28-0e43722077ed",
   "metadata": {},
   "outputs": [],
   "source": [
    "from arn_cats.chm.cheminfo_toolkit import Molecule,Fingerprint_engine"
   ]
  },
  {
   "cell_type": "code",
   "execution_count": 6,
   "id": "04a72238-5f2d-44c9-929e-3a8dbaa13c26",
   "metadata": {},
   "outputs": [],
   "source": [
    "from arn_cats.model.build_model import group_predictor_rf,  build_random_forest_classifier, select_groups"
   ]
  },
  {
   "cell_type": "code",
   "execution_count": 7,
   "id": "84a7783f-50cb-433f-a33f-ef38d24efc66",
   "metadata": {},
   "outputs": [],
   "source": [
    "from arn_cats.model.model_domain import Domain"
   ]
  },
  {
   "cell_type": "code",
   "execution_count": 8,
   "id": "20ea6231-f268-427c-9896-1fd8dc7d6db8",
   "metadata": {},
   "outputs": [],
   "source": [
    "from rdkit import Chem\n",
    "import pickle\n",
    "import numpy as np\n",
    "import pandas as pd\n",
    "from glob import glob\n",
    "import textwrap"
   ]
  },
  {
   "cell_type": "code",
   "execution_count": 9,
   "id": "53c25b76-cf29-44db-b465-a53e15140952",
   "metadata": {},
   "outputs": [],
   "source": [
    "from arn_cats.chm import cheminfo_toolkit"
   ]
  },
  {
   "cell_type": "markdown",
   "id": "8032f055-9ff5-41a7-8da1-f38a5bbbd3df",
   "metadata": {},
   "source": [
    "Load the set of molecules from the ARN groups themselves"
   ]
  },
  {
   "cell_type": "code",
   "execution_count": 10,
   "id": "fcb729bb-ed52-425e-8914-55b2d0dcc562",
   "metadata": {},
   "outputs": [
    {
     "name": "stdout",
     "output_type": "stream",
     "text": [
      "Resolved path: /home/grace/Documents/python/precision_dir/arn_cats/arn_cats/data/molecules_all.pickle\n"
     ]
    }
   ],
   "source": [
    "from arn_cats.data.data_load import arn_groupings"
   ]
  },
  {
   "cell_type": "code",
   "execution_count": 11,
   "id": "729ae87d-e5fa-4adc-8049-7fe598e55538",
   "metadata": {},
   "outputs": [],
   "source": [
    "from arn_cats.data.data_load import molecules, best_model_rf"
   ]
  },
  {
   "cell_type": "code",
   "execution_count": 12,
   "id": "8d6b422b-965e-4a82-aad5-4996e6f9fa15",
   "metadata": {},
   "outputs": [],
   "source": [
    "molecules_regrouped = select_groups(molecules,\n",
    "                                    minimum_group_size=10,\n",
    "                                    small_groups_as_negative=True,\n",
    "                                    pulled_small_group_name=\"miscellaneous chemistry\")\n"
   ]
  },
  {
   "cell_type": "code",
   "execution_count": 13,
   "id": "36c0f067-39ac-4511-8672-0f96450c9475",
   "metadata": {},
   "outputs": [],
   "source": [
    "fingerprint_engine = Fingerprint_engine.Morgan(radius=2, nBits=2560)"
   ]
  },
  {
   "cell_type": "markdown",
   "id": "97aaa9c2-bf01-411b-a05c-34a1d4c61665",
   "metadata": {},
   "source": [
    "Instantiate domain for the substances"
   ]
  },
  {
   "cell_type": "code",
   "execution_count": 14,
   "id": "52cc7c08-7672-430f-bfb5-d09ed3fd28a3",
   "metadata": {},
   "outputs": [],
   "source": [
    "domain_rf = Domain(molecules_regrouped, fingerprint_engine=fingerprint_engine)"
   ]
  },
  {
   "cell_type": "markdown",
   "id": "82f5998e-29f1-4dd0-b95d-5f1b84665d80",
   "metadata": {},
   "source": [
    "Load a new dataset - for sake of example, the first 5 substances in the TSCA inventory set are loaded and filtered for the specific columns of interest"
   ]
  },
  {
   "cell_type": "code",
   "execution_count": 15,
   "id": "ca11aefa-9bfc-44d5-9873-6f2de03b8a21",
   "metadata": {},
   "outputs": [],
   "source": [
    "tsca_head = (pd.read_excel(raw_dir/'tsca_categorisation_071124_wmappingdict.xlsx')\n",
    " .head()\n",
    "             \n",
    ")"
   ]
  },
  {
   "cell_type": "code",
   "execution_count": 16,
   "id": "86a7621c-cb0f-4bb6-b1d4-42ae0c312768",
   "metadata": {},
   "outputs": [],
   "source": [
    "tsca_head =(tsca_head\n",
    " .filter(['dtxsid', 'PREFERRED_NAME', 'CASRN', 'smiles'])\n",
    ")"
   ]
  },
  {
   "cell_type": "markdown",
   "id": "61b1f5af-b196-4a55-a38f-685496dfa2a7",
   "metadata": {},
   "source": [
    "Loop across the molecules in this set on the basis of their SMILES - converted to MOLS in order to evaluate whether they fall within the applicability domain of the \"training set chemicals\""
   ]
  },
  {
   "cell_type": "code",
   "execution_count": 17,
   "id": "ac99e626-94c8-48f5-b3cf-cbb2fd70889d",
   "metadata": {},
   "outputs": [],
   "source": [
    "mol_entries = []\n",
    "for i, row in tsca_head.iterrows():\n",
    "    mol_entry = dict(row)\n",
    "    try:\n",
    "        mol = Molecule(Chem.MolFromSmiles(row['smiles']))\n",
    "    except:\n",
    "        continue\n",
    "    mol_entry['mol'] = mol\n",
    "    mol_entry['in_domain'] = domain_rf.in_domain(mol)\n",
    "    predicted_groups = (\n",
    "                    pd.Series(group_predictor_rf(mol, model_details=best_model_rf, all_groups=True))\n",
    "                    .sort_values(ascending=False)\n",
    "                    .head(3)\n",
    "                    .rename('group probability')\n",
    "                    .reset_index()\n",
    "                    .rename({'index': 'group name'}, axis='columns'))\n",
    "    mol_entry['predicted group 1'], mol_entry['predicted group 2'], mol_entry['predicted group 3'] = predicted_groups['group name'].to_list()\n",
    "    mol_entry['predicted group 1 probability'], mol_entry['predicted group 2 probability'], mol_entry['predicted group 3 probability'] = predicted_groups['group probability'].to_list()\n",
    "    mol_entries.append(mol_entry)\n",
    "\n",
    "\n"
   ]
  },
  {
   "cell_type": "code",
   "execution_count": 18,
   "id": "de52e821-101b-439a-9902-446c395f90fc",
   "metadata": {},
   "outputs": [],
   "source": [
    "mol_entries = (pd.DataFrame(mol_entries)\n",
    " .drop(['mol'], axis = 1)\n",
    "              )"
   ]
  },
  {
   "cell_type": "markdown",
   "id": "d4c50a5a-d644-439d-84c4-ce9051c53016",
   "metadata": {},
   "source": [
    "Wrangle the data into the original dataframe so that a new column is created for the chemicals of interest to indicate whether the substance is in/out of domain and what the top 3 arn_groups are for the substances profiled"
   ]
  },
  {
   "cell_type": "code",
   "execution_count": 19,
   "id": "c604e0c6-f241-4289-b19f-df558ecee796",
   "metadata": {},
   "outputs": [
    {
     "data": {
      "text/html": [
       "<div>\n",
       "<style scoped>\n",
       "    .dataframe tbody tr th:only-of-type {\n",
       "        vertical-align: middle;\n",
       "    }\n",
       "\n",
       "    .dataframe tbody tr th {\n",
       "        vertical-align: top;\n",
       "    }\n",
       "\n",
       "    .dataframe thead th {\n",
       "        text-align: right;\n",
       "    }\n",
       "</style>\n",
       "<table border=\"1\" class=\"dataframe\">\n",
       "  <thead>\n",
       "    <tr style=\"text-align: right;\">\n",
       "      <th></th>\n",
       "      <th>dtxsid</th>\n",
       "      <th>PREFERRED_NAME</th>\n",
       "      <th>CASRN</th>\n",
       "      <th>smiles</th>\n",
       "      <th>in_domain</th>\n",
       "      <th>predicted group 1</th>\n",
       "      <th>predicted group 2</th>\n",
       "      <th>predicted group 3</th>\n",
       "      <th>predicted group 1 probability</th>\n",
       "      <th>predicted group 2 probability</th>\n",
       "      <th>predicted group 3 probability</th>\n",
       "    </tr>\n",
       "  </thead>\n",
       "  <tbody>\n",
       "    <tr>\n",
       "      <th>0</th>\n",
       "      <td>DTXSID4063036</td>\n",
       "      <td>1-Nonyne</td>\n",
       "      <td>3452-09-3</td>\n",
       "      <td>CCCCCCCC#C</td>\n",
       "      <td>True</td>\n",
       "      <td>Aliphatic nitriles</td>\n",
       "      <td>Simple Lithium compounds</td>\n",
       "      <td>tetrahydroxymethyl and tetraalkyl phosphonium ...</td>\n",
       "      <td>0.462056</td>\n",
       "      <td>0.143764</td>\n",
       "      <td>0.036833</td>\n",
       "    </tr>\n",
       "    <tr>\n",
       "      <th>1</th>\n",
       "      <td>DTXSID30870753</td>\n",
       "      <td>1-Hexyne</td>\n",
       "      <td>693-02-7</td>\n",
       "      <td>CCCCC#C</td>\n",
       "      <td>True</td>\n",
       "      <td>Aliphatic nitriles</td>\n",
       "      <td>Simple Lithium compounds</td>\n",
       "      <td>tetrahydroxymethyl and tetraalkyl phosphonium ...</td>\n",
       "      <td>0.391984</td>\n",
       "      <td>0.137514</td>\n",
       "      <td>0.055325</td>\n",
       "    </tr>\n",
       "    <tr>\n",
       "      <th>2</th>\n",
       "      <td>DTXSID7062374</td>\n",
       "      <td>1,8-Nonadiyne</td>\n",
       "      <td>2396-65-8</td>\n",
       "      <td>C#CCCCCCC#C</td>\n",
       "      <td>False</td>\n",
       "      <td>Aliphatic nitriles</td>\n",
       "      <td>primary aliphatic diamines and their salts</td>\n",
       "      <td>Simple Lithium compounds</td>\n",
       "      <td>0.405481</td>\n",
       "      <td>0.170556</td>\n",
       "      <td>0.071101</td>\n",
       "    </tr>\n",
       "    <tr>\n",
       "      <th>3</th>\n",
       "      <td>DTXSID9061097</td>\n",
       "      <td>1-Pentadecyne</td>\n",
       "      <td>765-13-9</td>\n",
       "      <td>CCCCCCCCCCCCCC#C</td>\n",
       "      <td>True</td>\n",
       "      <td>Aliphatic nitriles</td>\n",
       "      <td>Simple Lithium compounds</td>\n",
       "      <td>tetrahydroxymethyl and tetraalkyl phosphonium ...</td>\n",
       "      <td>0.462056</td>\n",
       "      <td>0.143764</td>\n",
       "      <td>0.036833</td>\n",
       "    </tr>\n",
       "    <tr>\n",
       "      <th>4</th>\n",
       "      <td>DTXSID1061233</td>\n",
       "      <td>1,7-Octadiyne</td>\n",
       "      <td>871-84-1</td>\n",
       "      <td>C#CCCCCC#C</td>\n",
       "      <td>False</td>\n",
       "      <td>Aliphatic nitriles</td>\n",
       "      <td>primary aliphatic diamines and their salts</td>\n",
       "      <td>Simple Lithium compounds</td>\n",
       "      <td>0.410799</td>\n",
       "      <td>0.133905</td>\n",
       "      <td>0.066176</td>\n",
       "    </tr>\n",
       "  </tbody>\n",
       "</table>\n",
       "</div>"
      ],
      "text/plain": [
       "           dtxsid PREFERRED_NAME      CASRN            smiles  in_domain  \\\n",
       "0   DTXSID4063036       1-Nonyne  3452-09-3        CCCCCCCC#C       True   \n",
       "1  DTXSID30870753       1-Hexyne   693-02-7           CCCCC#C       True   \n",
       "2   DTXSID7062374  1,8-Nonadiyne  2396-65-8       C#CCCCCCC#C      False   \n",
       "3   DTXSID9061097  1-Pentadecyne   765-13-9  CCCCCCCCCCCCCC#C       True   \n",
       "4   DTXSID1061233  1,7-Octadiyne   871-84-1        C#CCCCCC#C      False   \n",
       "\n",
       "    predicted group 1                           predicted group 2  \\\n",
       "0  Aliphatic nitriles                    Simple Lithium compounds   \n",
       "1  Aliphatic nitriles                    Simple Lithium compounds   \n",
       "2  Aliphatic nitriles  primary aliphatic diamines and their salts   \n",
       "3  Aliphatic nitriles                    Simple Lithium compounds   \n",
       "4  Aliphatic nitriles  primary aliphatic diamines and their salts   \n",
       "\n",
       "                                   predicted group 3  \\\n",
       "0  tetrahydroxymethyl and tetraalkyl phosphonium ...   \n",
       "1  tetrahydroxymethyl and tetraalkyl phosphonium ...   \n",
       "2                           Simple Lithium compounds   \n",
       "3  tetrahydroxymethyl and tetraalkyl phosphonium ...   \n",
       "4                           Simple Lithium compounds   \n",
       "\n",
       "   predicted group 1 probability  predicted group 2 probability  \\\n",
       "0                       0.462056                       0.143764   \n",
       "1                       0.391984                       0.137514   \n",
       "2                       0.405481                       0.170556   \n",
       "3                       0.462056                       0.143764   \n",
       "4                       0.410799                       0.133905   \n",
       "\n",
       "   predicted group 3 probability  \n",
       "0                       0.036833  \n",
       "1                       0.055325  \n",
       "2                       0.071101  \n",
       "3                       0.036833  \n",
       "4                       0.066176  "
      ]
     },
     "execution_count": 19,
     "metadata": {},
     "output_type": "execute_result"
    }
   ],
   "source": [
    "mol_entries"
   ]
  },
  {
   "cell_type": "code",
   "execution_count": 20,
   "id": "51a444a9-fe32-4f00-9996-03f953d52744",
   "metadata": {},
   "outputs": [],
   "source": [
    "import openpyxl"
   ]
  },
  {
   "cell_type": "markdown",
   "id": "eb2bc9a5-39da-4bdd-8395-1070ae159e9d",
   "metadata": {},
   "source": [
    "Attempt to do the same for a small subset of the REACH substances that were part of the SI in the original publication"
   ]
  },
  {
   "cell_type": "code",
   "execution_count": 21,
   "id": "daf9f830-6f5b-42db-bfc3-386211313f1a",
   "metadata": {},
   "outputs": [],
   "source": [
    "reach_redact = pd.read_excel(raw_dir / 'S5_rf_application_1_results_redacted.xlsx', index_col = [0])"
   ]
  },
  {
   "cell_type": "code",
   "execution_count": 22,
   "id": "5460bbb7-0189-4bb1-b094-662cf8e02156",
   "metadata": {},
   "outputs": [],
   "source": [
    "reach_redact = (reach_redact\n",
    " .rename(columns = {'SMILES used for the invetory predictions': 'smiles', 'predicted group 1': 'orig_grp1','predicted group 2': 'orig_grp2','predicted group 3': 'orig_grp3'})\n",
    " .filter(['ec_number', 'substance_name', 'CASRN', 'smiles', 'orig_grp1', 'orig_grp2', 'orig_grp3'])\n",
    " .query('smiles.notnull()')\n",
    ")\n"
   ]
  },
  {
   "cell_type": "code",
   "execution_count": 23,
   "id": "01e2d3d5-ce7c-4b9d-8c05-8a7292f88b9b",
   "metadata": {},
   "outputs": [],
   "source": [
    "mol_entries1 = []\n",
    "for i, row in reach_redact.head(50).iterrows():\n",
    "    mol_entry = dict(row)\n",
    "    try:\n",
    "        mol = Molecule(Chem.MolFromSmiles(row['smiles']))\n",
    "    except:\n",
    "        continue\n",
    "    mol_entry['mol'] = mol\n",
    "    mol_entry['in_domain'] = domain_rf.in_domain(mol)\n",
    "    predicted_groups = (\n",
    "                    pd.Series(group_predictor_rf(mol, model_details=best_model_rf, all_groups=True))\n",
    "                    .sort_values(ascending=False)\n",
    "                    .head(3)\n",
    "                    .rename('group probability')\n",
    "                    .reset_index()\n",
    "                    .rename({'index': 'group name'}, axis='columns'))\n",
    "    mol_entry['predicted group 1'], mol_entry['predicted group 2'], mol_entry['predicted group 3'] = predicted_groups['group name'].to_list()\n",
    "    mol_entry['predicted group 1 probability'], mol_entry['predicted group 2 probability'], mol_entry['predicted group 3 probability'] = predicted_groups['group probability'].to_list()\n",
    "    mol_entries1.append(mol_entry)"
   ]
  },
  {
   "cell_type": "code",
   "execution_count": 24,
   "id": "8f8a64e9-b05f-4c8d-ad7e-301a124ac273",
   "metadata": {},
   "outputs": [],
   "source": [
    "mol_entries1 = (pd.DataFrame(mol_entries1)\n",
    " .drop(['mol'], axis = 1)\n",
    "              )"
   ]
  },
  {
   "cell_type": "code",
   "execution_count": 25,
   "id": "dea24e32-ff4f-4e99-ab0e-51609028d863",
   "metadata": {},
   "outputs": [
    {
     "data": {
      "text/html": [
       "<div>\n",
       "<style scoped>\n",
       "    .dataframe tbody tr th:only-of-type {\n",
       "        vertical-align: middle;\n",
       "    }\n",
       "\n",
       "    .dataframe tbody tr th {\n",
       "        vertical-align: top;\n",
       "    }\n",
       "\n",
       "    .dataframe thead th {\n",
       "        text-align: right;\n",
       "    }\n",
       "</style>\n",
       "<table border=\"1\" class=\"dataframe\">\n",
       "  <thead>\n",
       "    <tr style=\"text-align: right;\">\n",
       "      <th></th>\n",
       "      <th>ec_number</th>\n",
       "      <th>substance_name</th>\n",
       "      <th>smiles</th>\n",
       "      <th>orig_grp1</th>\n",
       "      <th>orig_grp2</th>\n",
       "      <th>orig_grp3</th>\n",
       "      <th>in_domain</th>\n",
       "      <th>predicted group 1</th>\n",
       "      <th>predicted group 2</th>\n",
       "      <th>predicted group 3</th>\n",
       "      <th>predicted group 1 probability</th>\n",
       "      <th>predicted group 2 probability</th>\n",
       "      <th>predicted group 3 probability</th>\n",
       "    </tr>\n",
       "  </thead>\n",
       "  <tbody>\n",
       "    <tr>\n",
       "      <th>0</th>\n",
       "      <td>213-668-5</td>\n",
       "      <td>1,1,1,3,3,3-hexamethyldisilazane</td>\n",
       "      <td>C[Si](C)(C)N[Si](C)(C)C</td>\n",
       "      <td>hydrocarbyl siloxanes</td>\n",
       "      <td>Simple Lithium compounds</td>\n",
       "      <td>miscellaneous chemistry</td>\n",
       "      <td>False</td>\n",
       "      <td>hydrocarbyl siloxanes</td>\n",
       "      <td>Simple Lithium compounds</td>\n",
       "      <td>miscellaneous chemistry</td>\n",
       "      <td>0.274541</td>\n",
       "      <td>0.159919</td>\n",
       "      <td>0.089563</td>\n",
       "    </tr>\n",
       "    <tr>\n",
       "      <th>1</th>\n",
       "      <td>202-808-0</td>\n",
       "      <td>4-nitrotoluene</td>\n",
       "      <td>Cc1ccc([N+](=O)[O-])cc1</td>\n",
       "      <td>nitroalkanes</td>\n",
       "      <td>miscellaneous chemistry</td>\n",
       "      <td>chlorinated aromatic hydrocarbons</td>\n",
       "      <td>False</td>\n",
       "      <td>nitroalkanes</td>\n",
       "      <td>miscellaneous chemistry</td>\n",
       "      <td>chlorinated aromatic hydrocarbons</td>\n",
       "      <td>0.240193</td>\n",
       "      <td>0.112222</td>\n",
       "      <td>0.094778</td>\n",
       "    </tr>\n",
       "    <tr>\n",
       "      <th>2</th>\n",
       "      <td>202-805-4</td>\n",
       "      <td>N,N-dimethyl-p-toluidine</td>\n",
       "      <td>Cc1ccc(N(C)C)cc1</td>\n",
       "      <td>chlorinated aromatic hydrocarbons</td>\n",
       "      <td>miscellaneous chemistry</td>\n",
       "      <td>Unsubstituted and linear aliphatic-substituted...</td>\n",
       "      <td>True</td>\n",
       "      <td>chlorinated aromatic hydrocarbons</td>\n",
       "      <td>miscellaneous chemistry</td>\n",
       "      <td>Unsubstituted and linear aliphatic-substituted...</td>\n",
       "      <td>0.161841</td>\n",
       "      <td>0.140310</td>\n",
       "      <td>0.127222</td>\n",
       "    </tr>\n",
       "    <tr>\n",
       "      <th>3</th>\n",
       "      <td>202-804-9</td>\n",
       "      <td>4-hydroxybenzoic acid</td>\n",
       "      <td>O=C(O)c1ccc(O)cc1</td>\n",
       "      <td>Paraben acid, salts and esters</td>\n",
       "      <td>Isophthalates, Terephthalates and Trimellitates</td>\n",
       "      <td>miscellaneous chemistry</td>\n",
       "      <td>True</td>\n",
       "      <td>Paraben acid, salts and esters</td>\n",
       "      <td>Isophthalates, Terephthalates and Trimellitates</td>\n",
       "      <td>miscellaneous chemistry</td>\n",
       "      <td>0.509563</td>\n",
       "      <td>0.169198</td>\n",
       "      <td>0.113762</td>\n",
       "    </tr>\n",
       "    <tr>\n",
       "      <th>4</th>\n",
       "      <td>202-803-3</td>\n",
       "      <td>p-toluic acid</td>\n",
       "      <td>Cc1ccc(C(=O)O)cc1</td>\n",
       "      <td>Isophthalates, Terephthalates and Trimellitates</td>\n",
       "      <td>miscellaneous chemistry</td>\n",
       "      <td>Paraben acid, salts and esters</td>\n",
       "      <td>True</td>\n",
       "      <td>Isophthalates, Terephthalates and Trimellitates</td>\n",
       "      <td>miscellaneous chemistry</td>\n",
       "      <td>Paraben acid, salts and esters</td>\n",
       "      <td>0.268333</td>\n",
       "      <td>0.150849</td>\n",
       "      <td>0.117310</td>\n",
       "    </tr>\n",
       "  </tbody>\n",
       "</table>\n",
       "</div>"
      ],
      "text/plain": [
       "   ec_number                    substance_name                   smiles  \\\n",
       "0  213-668-5  1,1,1,3,3,3-hexamethyldisilazane  C[Si](C)(C)N[Si](C)(C)C   \n",
       "1  202-808-0                    4-nitrotoluene  Cc1ccc([N+](=O)[O-])cc1   \n",
       "2  202-805-4          N,N-dimethyl-p-toluidine         Cc1ccc(N(C)C)cc1   \n",
       "3  202-804-9             4-hydroxybenzoic acid        O=C(O)c1ccc(O)cc1   \n",
       "4  202-803-3                     p-toluic acid        Cc1ccc(C(=O)O)cc1   \n",
       "\n",
       "                                         orig_grp1  \\\n",
       "0                            hydrocarbyl siloxanes   \n",
       "1                                     nitroalkanes   \n",
       "2                chlorinated aromatic hydrocarbons   \n",
       "3                   Paraben acid, salts and esters   \n",
       "4  Isophthalates, Terephthalates and Trimellitates   \n",
       "\n",
       "                                         orig_grp2  \\\n",
       "0                         Simple Lithium compounds   \n",
       "1                          miscellaneous chemistry   \n",
       "2                          miscellaneous chemistry   \n",
       "3  Isophthalates, Terephthalates and Trimellitates   \n",
       "4                          miscellaneous chemistry   \n",
       "\n",
       "                                           orig_grp3  in_domain  \\\n",
       "0                            miscellaneous chemistry      False   \n",
       "1                  chlorinated aromatic hydrocarbons      False   \n",
       "2  Unsubstituted and linear aliphatic-substituted...       True   \n",
       "3                            miscellaneous chemistry       True   \n",
       "4                     Paraben acid, salts and esters       True   \n",
       "\n",
       "                                 predicted group 1  \\\n",
       "0                            hydrocarbyl siloxanes   \n",
       "1                                     nitroalkanes   \n",
       "2                chlorinated aromatic hydrocarbons   \n",
       "3                   Paraben acid, salts and esters   \n",
       "4  Isophthalates, Terephthalates and Trimellitates   \n",
       "\n",
       "                                 predicted group 2  \\\n",
       "0                         Simple Lithium compounds   \n",
       "1                          miscellaneous chemistry   \n",
       "2                          miscellaneous chemistry   \n",
       "3  Isophthalates, Terephthalates and Trimellitates   \n",
       "4                          miscellaneous chemistry   \n",
       "\n",
       "                                   predicted group 3  \\\n",
       "0                            miscellaneous chemistry   \n",
       "1                  chlorinated aromatic hydrocarbons   \n",
       "2  Unsubstituted and linear aliphatic-substituted...   \n",
       "3                            miscellaneous chemistry   \n",
       "4                     Paraben acid, salts and esters   \n",
       "\n",
       "   predicted group 1 probability  predicted group 2 probability  \\\n",
       "0                       0.274541                       0.159919   \n",
       "1                       0.240193                       0.112222   \n",
       "2                       0.161841                       0.140310   \n",
       "3                       0.509563                       0.169198   \n",
       "4                       0.268333                       0.150849   \n",
       "\n",
       "   predicted group 3 probability  \n",
       "0                       0.089563  \n",
       "1                       0.094778  \n",
       "2                       0.127222  \n",
       "3                       0.113762  \n",
       "4                       0.117310  "
      ]
     },
     "execution_count": 25,
     "metadata": {},
     "output_type": "execute_result"
    }
   ],
   "source": [
    "mol_entries1.head()"
   ]
  },
  {
   "cell_type": "code",
   "execution_count": null,
   "id": "e0e523ad-8c2f-452f-935e-fdd3c55a6199",
   "metadata": {},
   "outputs": [],
   "source": []
  }
 ],
 "metadata": {
  "kernelspec": {
   "display_name": "arns",
   "language": "python",
   "name": "arns"
  },
  "language_info": {
   "codemirror_mode": {
    "name": "ipython",
    "version": 3
   },
   "file_extension": ".py",
   "mimetype": "text/x-python",
   "name": "python",
   "nbconvert_exporter": "python",
   "pygments_lexer": "ipython3",
   "version": "3.10.17"
  },
  "widgets": {
   "application/vnd.jupyter.widget-state+json": {
    "state": {},
    "version_major": 2,
    "version_minor": 0
   }
  }
 },
 "nbformat": 4,
 "nbformat_minor": 5
}
